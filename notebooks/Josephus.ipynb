{
 "cells": [
  {
   "cell_type": "code",
   "execution_count": 1,
   "metadata": {},
   "outputs": [
    {
     "data": {
      "text/plain": [
       "#'user/josephus"
      ]
     },
     "execution_count": 1,
     "metadata": {},
     "output_type": "execute_result"
    }
   ],
   "source": [
    "(defn josephus\n",
    "  ([n m] (josephus (range 1 (inc n)) m 1 []))\n",
    "  ([nums m ind res]\n",
    "     (if (< (count nums) m)\n",
    "       (concat res nums)\n",
    "       (if (= m ind)\n",
    "         (recur (rest nums) m 1 (conj res (first nums)))\n",
    "         (recur (concat (rest nums) (list (first nums))) m (inc ind) res)))))"
   ]
  },
  {
   "cell_type": "code",
   "execution_count": 12,
   "metadata": {},
   "outputs": [
    {
     "data": {
      "text/plain": [
       "(3 6 9 12 15 2 7 11 16 5 13 4 14 10 1 8)"
      ]
     },
     "execution_count": 12,
     "metadata": {},
     "output_type": "execute_result"
    }
   ],
   "source": [
    "(josephus 16 3)"
   ]
  },
  {
   "cell_type": "code",
   "execution_count": 10,
   "metadata": {},
   "outputs": [
    {
     "data": {
      "text/plain": [
       "([1 3] [2 6] [3 9] [4 12] [5 15] [6 18] [7 21] [8 24] [9 27] [10 30] [11 33] [12 36] [13 39] [14 1] [15 5] [16 10] [17 14] [18 19] [19 23] [20 28] [21 32] [22 37] [23 41] [24 7] [25 13] [26 20] [27 26] [28 34] [29 40] [30 8] [31 17] [32 29] [33 38] [34 11] [35 25] [36 2] [37 22] [38 4] [39 35] [40 16] [41 31])"
      ]
     },
     "execution_count": 10,
     "metadata": {},
     "output_type": "execute_result"
    }
   ],
   "source": [
    "(map vector (rest (range)) (josephus 41 3))"
   ]
  },
  {
   "cell_type": "code",
   "execution_count": 5,
   "metadata": {},
   "outputs": [
    {
     "data": {
      "text/plain": [
       "([14 1] [36 2] [1 3] [38 4] [15 5] [2 6] [24 7] [30 8] [3 9] [16 10] [34 11] [4 12] [25 13] [17 14] [5 15] [40 16] [31 17] [6 18] [18 19] [26 20] [7 21] [37 22] [19 23] [8 24] [35 25] [27 26] [9 27] [20 28] [32 29] [10 30] [41 31] [21 32] [11 33] [28 34] [39 35] [12 36] [22 37] [33 38] [13 39] [29 40] [23 41])"
      ]
     },
     "execution_count": 5,
     "metadata": {},
     "output_type": "execute_result"
    }
   ],
   "source": [
    "(sort-by second (map vector (rest (range)) (josephus 41 3)))"
   ]
  },
  {
   "cell_type": "code",
   "execution_count": 6,
   "metadata": {},
   "outputs": [
    {
     "data": {
      "text/plain": [
       "(9 18 27 6 16 26 7 19 30 12 24 8 22 5 23 11 29 17 10 2 28 25 1 3 4 13 14 15 20 21)"
      ]
     },
     "execution_count": 6,
     "metadata": {},
     "output_type": "execute_result"
    }
   ],
   "source": [
    "(josephus 30 9)"
   ]
  },
  {
   "cell_type": "code",
   "execution_count": 7,
   "metadata": {},
   "outputs": [
    {
     "data": {
      "text/plain": [
       "([1 9] [2 18] [3 27] [4 6] [5 16] [6 26] [7 7] [8 19] [9 30] [10 12] [11 24] [12 8] [13 22] [14 5] [15 23] [16 11] [17 29] [18 17] [19 10] [20 2] [21 28] [22 25] [23 1] [24 3] [25 4] [26 13] [27 14] [28 15] [29 20] [30 21])"
      ]
     },
     "execution_count": 7,
     "metadata": {},
     "output_type": "execute_result"
    }
   ],
   "source": [
    "(map vector (rest (range)) (josephus 30 9))"
   ]
  },
  {
   "cell_type": "code",
   "execution_count": 8,
   "metadata": {},
   "outputs": [
    {
     "data": {
      "text/plain": [
       "([23 1] [20 2] [24 3] [25 4] [14 5] [4 6] [7 7] [12 8] [1 9] [19 10] [16 11] [10 12] [26 13] [27 14] [28 15] [5 16] [18 17] [2 18] [8 19] [29 20] [30 21] [13 22] [15 23] [11 24] [22 25] [6 26] [3 27] [21 28] [17 29] [9 30])"
      ]
     },
     "execution_count": 8,
     "metadata": {},
     "output_type": "execute_result"
    }
   ],
   "source": [
    "(sort-by second (map vector (rest (range)) (josephus 30 9)))"
   ]
  },
  {
   "cell_type": "code",
   "execution_count": null,
   "metadata": {},
   "outputs": [],
   "source": []
  }
 ],
 "metadata": {
  "kernelspec": {
   "display_name": "Clojure",
   "language": "clojure",
   "name": "clojure"
  },
  "language_info": {
   "file_extension": ".clj",
   "mimetype": "text/x-clojure",
   "name": "clojure",
   "version": "1.8.0"
  }
 },
 "nbformat": 4,
 "nbformat_minor": 2
}
