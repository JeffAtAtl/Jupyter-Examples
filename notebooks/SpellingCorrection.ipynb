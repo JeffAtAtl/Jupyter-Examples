{
 "cells": [
  {
   "cell_type": "code",
   "execution_count": 1,
   "metadata": {},
   "outputs": [
    {
     "data": {
      "text/plain": [
       "#'user/correct"
      ]
     },
     "execution_count": 1,
     "metadata": {},
     "output_type": "execute_result"
    }
   ],
   "source": [
    "(defn words [text] (re-seq #\"[a-z]+\" (.toLowerCase text)))\n",
    "\n",
    "(defn train [features]\n",
    "  (reduce (fn [model f] (assoc model f (inc (get model f 0)))) {} features))\n",
    "\n",
    "(def nwords (train (words (slurp \"big.txt\"))))\n",
    "\n",
    "(defn edits1 [word]\n",
    "  (let [alphabet \"abcdefghijklmnopqrstuvwxyz\", n (count word)]\n",
    "    (distinct (concat\n",
    "      (for [i (range n)] (str (subs word 0 i) (subs word (inc i))))\n",
    "      (for [i (range (dec n))]\n",
    "        (str (subs word 0 i) (nth word (inc i)) (nth word i) (subs word (+ 2 i))))\n",
    "      (for [i (range n) c alphabet] (str (subs word 0 i) c (subs word (inc i))))\n",
    "      (for [i (range (inc n)) c alphabet] (str (subs word 0 i) c (subs word i)))))))\n",
    "\n",
    "(defn known [words nwords] (not-empty (set (for [w words :when (nwords w)]  w))))\n",
    "\n",
    "(defn known-edits2 [word nwords]\n",
    "  (not-empty (set (for [e1 (edits1 word) e2 (edits1 e1) :when (nwords e2)]  e2))))\n",
    "\n",
    "(defn correct [word nwords]\n",
    "  (let [candidates (or (known [word] nwords) (known (edits1 word) nwords) \n",
    "                       (known-edits2 word nwords) [word])]\n",
    "    (apply max-key #(get nwords % 1) candidates)))"
   ]
  },
  {
   "cell_type": "code",
   "execution_count": 2,
   "metadata": {},
   "outputs": [
    {
     "data": {
      "text/plain": [
       "\"mistake\""
      ]
     },
     "execution_count": 2,
     "metadata": {},
     "output_type": "execute_result"
    }
   ],
   "source": [
    "(correct \"misstake\" nwords)"
   ]
  },
  {
   "cell_type": "code",
   "execution_count": 3,
   "metadata": {},
   "outputs": [
    {
     "data": {
      "text/plain": [
       "\"spelling\""
      ]
     },
     "execution_count": 3,
     "metadata": {},
     "output_type": "execute_result"
    }
   ],
   "source": [
    "(correct \"speling\" nwords)"
   ]
  },
  {
   "cell_type": "code",
   "execution_count": 4,
   "metadata": {},
   "outputs": [
    {
     "data": {
      "text/plain": [
       "\"tongue\""
      ]
     },
     "execution_count": 4,
     "metadata": {},
     "output_type": "execute_result"
    }
   ],
   "source": [
    "(correct \"tongue\" nwords)"
   ]
  },
  {
   "cell_type": "code",
   "execution_count": 5,
   "metadata": {},
   "outputs": [
    {
     "data": {
      "text/plain": [
       "1105285"
      ]
     },
     "execution_count": 5,
     "metadata": {},
     "output_type": "execute_result"
    }
   ],
   "source": [
    "(count (words (slurp \"big.txt\")))"
   ]
  },
  {
   "cell_type": "code",
   "execution_count": 6,
   "metadata": {},
   "outputs": [
    {
     "data": {
      "text/plain": [
       "29157"
      ]
     },
     "execution_count": 6,
     "metadata": {},
     "output_type": "execute_result"
    }
   ],
   "source": [
    "(->> nwords\n",
    "     (sort-by second)\n",
    "     reverse\n",
    "     count)"
   ]
  },
  {
   "cell_type": "code",
   "execution_count": 69,
   "metadata": {},
   "outputs": [
    {
     "data": {
      "text/plain": [
       "([\"the\" 80030] [\"of\" 40025] [\"and\" 38313] [\"to\" 28766] [\"in\" 22050] [\"a\" 21155] [\"that\" 12512] [\"he\" 12401] [\"was\" 11410] [\"it\" 10681] [\"his\" 10034] [\"is\" 9774] [\"with\" 9740] [\"as\" 8064] [\"i\" 7687] [\"had\" 7383] [\"for\" 6941] [\"at\" 6791] [\"by\" 6738] [\"on\" 6643] [\"not\" 6626] [\"be\" 6155] [\"from\" 5709] [\"but\" 5653] [\"s\" 5636] [\"you\" 5622] [\"or\" 5352] [\"her\" 5284] [\"him\" 5230] [\"which\" 4842] [\"were\" 4289] [\"all\" 4144] [\"this\" 4063] [\"she\" 3946] [\"they\" 3938] [\"are\" 3630] [\"have\" 3493] [\"said\" 3464] [\"an\" 3423] [\"one\" 3371] [\"who\" 3050] [\"so\" 3017] [\"what\" 3011] [\"there\" 2972] [\"their\" 2955] [\"when\" 2923] [\"been\" 2599] [\"may\" 2551] [\"if\" 2373] [\"no\" 2348] [\"up\" 2284] [\"my\" 2249] [\"them\" 2241] [\"into\" 2124] [\"more\" 1997] [\"out\" 1987] [\"pierre\" 1964] [\"would\" 1953] [\"prince\" 1935] [\"me\" 1920] [\"we\" 1906] [\"did\" 1875] [\"only\" 1873] [\"could\" 1700] [\"now\" 1697] [\"man\" 1652] [\"its\" 1635] [\"has\" 1603] [\"will\" 1577] [\"then\" 1558] [\"some\" 1536] [\"time\" 1529] [\"after\" 1504] [\"do\" 1503] [\"other\" 1502] [\"about\" 1497] [\"such\" 1436] [\"before\" 1363] [\"very\" 1340] [\"t\" 1318] [\"how\" 1315] [\"should\" 1297] [\"over\" 1282] [\"your\" 1279] [\"these\" 1231] [\"natasha\" 1212] [\"new\" 1211] [\"than\" 1206] [\"any\" 1204] [\"those\" 1201] [\"well\" 1198] [\"old\" 1180] [\"first\" 1177] [\"andrew\" 1169] [\"himself\" 1158] [\"men\" 1145] [\"two\" 1138] [\"down\" 1128] [\"face\" 1125] [\"upon\" 1111])"
      ]
     },
     "execution_count": 69,
     "metadata": {},
     "output_type": "execute_result"
    }
   ],
   "source": [
    "(->> nwords\n",
    "     (sort-by second)\n",
    "     reverse\n",
    "     (take 100))"
   ]
  },
  {
   "cell_type": "code",
   "execution_count": 70,
   "metadata": {},
   "outputs": [
    {
     "data": {
      "text/plain": [
       "([\"quos\" 1] [\"seager\" 1] [\"phlebitic\" 1] [\"restatement\" 1] [\"crusty\" 1] [\"bubonic\" 1] [\"lateralis\" 1] [\"reverberation\" 1] [\"rainbow\" 1] [\"rightless\" 1] [\"platovs\" 1] [\"dashboard\" 1] [\"vying\" 1] [\"hayfork\" 1] [\"thurlow\" 1] [\"mac\" 1] [\"parqueted\" 1] [\"technology\" 1] [\"quitrents\" 1] [\"erector\" 1] [\"uglier\" 1] [\"buddha\" 1] [\"urticaria\" 1] [\"prompting\" 1] [\"penetrans\" 1] [\"histology\" 1] [\"lows\" 1] [\"nl\" 1] [\"cottages\" 1] [\"hump\" 1] [\"perchance\" 1] [\"intermittently\" 1] [\"claimant\" 1] [\"breakup\" 1] [\"freer\" 1] [\"mattock\" 1] [\"cottons\" 1] [\"deductive\" 1] [\"destinies\" 1] [\"teddy\" 1] [\"erecting\" 1] [\"faintest\" 1] [\"alkalies\" 1] [\"creaks\" 1] [\"grimke\" 1] [\"fanlight\" 1] [\"mutterings\" 1] [\"gnashing\" 1] [\"dementyev\" 1] [\"jenks\" 1] [\"respondent\" 1] [\"mortals\" 1] [\"alarms\" 1] [\"bl\" 1] [\"rustchuk\" 1] [\"dorsalis\" 1] [\"kennelman\" 1] [\"grooving\" 1] [\"babinski\" 1] [\"organisational\" 1] [\"sweats\" 1] [\"attorneys\" 1] [\"pried\" 1] [\"humbler\" 1] [\"abel\" 1] [\"untidy\" 1] [\"tsaritsin\" 1] [\"jean\" 1] [\"cajolery\" 1] [\"affluents\" 1] [\"tenets\" 1] [\"concomitants\" 1] [\"lambach\" 1] [\"percent\" 1] [\"bailey\" 1] [\"retailing\" 1] [\"interminable\" 1] [\"gluttony\" 1] [\"crane\" 1] [\"latecomers\" 1] [\"ponies\" 1] [\"calcis\" 1] [\"readmitted\" 1] [\"colliding\" 1] [\"spatial\" 1] [\"remarry\" 1] [\"scolded\" 1] [\"scorbutics\" 1] [\"schwann\" 1] [\"epiblast\" 1] [\"federative\" 1] [\"acquires\" 1] [\"biglow\" 1] [\"encrustation\" 1] [\"witchery\" 1] [\"fissuring\" 1] [\"madonna\" 1] [\"dustcoat\" 1] [\"racism\" 1] [\"handcuffed\" 1])"
      ]
     },
     "execution_count": 70,
     "metadata": {},
     "output_type": "execute_result"
    }
   ],
   "source": [
    "(->> nwords\n",
    "     (sort-by second)\n",
    "     (take 100))"
   ]
  },
  {
   "cell_type": "code",
   "execution_count": 71,
   "metadata": {},
   "outputs": [
    {
     "data": {
      "text/plain": [
       "610"
      ]
     },
     "execution_count": 71,
     "metadata": {},
     "output_type": "execute_result"
    }
   ],
   "source": [
    "(->> nwords\n",
    "     (map second)\n",
    "     frequencies\n",
    "     sort\n",
    "     count)"
   ]
  },
  {
   "cell_type": "code",
   "execution_count": 72,
   "metadata": {},
   "outputs": [
    {
     "data": {
      "text/plain": [
       "([1 8670] [2 3944] [3 2465] [4 1645] [5 1315] [6 1016] [7 751] [8 668] [9 578] [10 487] [11 416] [12 380] [13 324] [14 319] [15 267] [16 268] [17 230] [18 222] [19 201] [20 158] [21 196] [22 149] [23 124] [24 157] [25 139] [26 109] [27 100] [28 99] [29 112] [30 95] [31 84] [32 82] [33 76] [34 84] [35 67] [36 75] [37 58] [38 82] [39 77] [40 66] [41 61] [42 61] [43 56] [44 39] [45 48] [46 49] [47 41] [48 45] [49 40] [50 47] [51 45] [52 47] [53 37] [54 41] [55 36] [56 38] [57 28] [58 32] [59 21] [60 32] [61 28] [62 28] [63 24] [64 30] [65 21] [66 26] [67 25] [68 21] [69 22] [70 21] [71 27] [72 31] [73 23] [74 21] [75 24] [76 20] [77 26] [78 29] [79 19] [80 15] [81 20] [82 16] [83 15] [84 17] [85 10] [86 19] [87 20] [88 10] [89 20] [90 6] [91 16] [92 20] [93 16] [94 9] [95 18] [96 22] [97 9] [98 14] [99 11] [100 15])"
      ]
     },
     "execution_count": 72,
     "metadata": {},
     "output_type": "execute_result"
    }
   ],
   "source": [
    "(->> nwords\n",
    "     (map second)\n",
    "     frequencies\n",
    "     sort\n",
    "     (take 100))"
   ]
  },
  {
   "cell_type": "code",
   "execution_count": 73,
   "metadata": {},
   "outputs": [
    {
     "data": {
      "text/plain": [
       "([80030 1] [40025 1] [38313 1] [28766 1] [22050 1] [21155 1] [12512 1] [12401 1] [11410 1] [10681 1] [10034 1] [9774 1] [9740 1] [8064 1] [7687 1] [7383 1] [6941 1] [6791 1] [6738 1] [6643 1] [6626 1] [6155 1] [5709 1] [5653 1] [5636 1] [5622 1] [5352 1] [5284 1] [5230 1] [4842 1] [4289 1] [4144 1] [4063 1] [3946 1] [3938 1] [3630 1] [3493 1] [3464 1] [3423 1] [3371 1] [3050 1] [3017 1] [3011 1] [2972 1] [2955 1] [2923 1] [2599 1] [2551 1] [2373 1] [2348 1] [2284 1] [2249 1] [2241 1] [2124 1] [1997 1] [1987 1] [1964 1] [1953 1] [1935 1] [1920 1] [1906 1] [1875 1] [1873 1] [1700 1] [1697 1] [1652 1] [1635 1] [1603 1] [1577 1] [1558 1] [1536 1] [1529 1] [1504 1] [1503 1] [1502 1] [1497 1] [1436 1] [1363 1] [1340 1] [1318 1] [1315 1] [1297 1] [1282 1] [1279 1] [1231 1] [1212 1] [1211 1] [1206 1] [1204 1] [1201 1] [1198 1] [1180 1] [1177 1] [1169 1] [1158 1] [1145 1] [1138 1] [1128 1] [1125 1] [1111 1])"
      ]
     },
     "execution_count": 73,
     "metadata": {},
     "output_type": "execute_result"
    }
   ],
   "source": [
    "(->> nwords\n",
    "     (map second)\n",
    "     frequencies\n",
    "     sort\n",
    "     reverse\n",
    "     (take 100))"
   ]
  },
  {
   "cell_type": "code",
   "execution_count": null,
   "metadata": {},
   "outputs": [],
   "source": []
  }
 ],
 "metadata": {
  "kernelspec": {
   "display_name": "Clojure",
   "language": "clojure",
   "name": "clojure"
  },
  "language_info": {
   "file_extension": ".clj",
   "mimetype": "text/x-clojure",
   "name": "clojure",
   "version": "1.8.0"
  }
 },
 "nbformat": 4,
 "nbformat_minor": 2
}
