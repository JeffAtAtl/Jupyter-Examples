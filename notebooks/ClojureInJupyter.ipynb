{
 "cells": [
  {
   "cell_type": "markdown",
   "metadata": {},
   "source": [
    "# Using Clojure in Jupyter"
   ]
  },
  {
   "cell_type": "markdown",
   "metadata": {},
   "source": [
    "## Who am I\n",
    "\n",
    " - Jeff Cummings\n",
    " - Programming with:\n",
    "   - Java 20 years\n",
    "   - SQL 20 years\n",
    "   - Clojure 8 years\n",
    " - Jupyter user 2 years\n",
    " - [@jtcummiatl](https://twitter.com/jtcummiatl)\n",
    " - https://www.linkedin.com/in/jeffrey-cummings-5b46015/\n",
    " - https://github.com/JeffAtAtl\n",
    " - jtcummi@yahoo.com"
   ]
  },
  {
   "cell_type": "markdown",
   "metadata": {},
   "source": [
    "## Why should I use a language other than Python in Jupyter"
   ]
  },
  {
   "cell_type": "markdown",
   "metadata": {},
   "source": [
    "Henry Garner wrote an article for InfoQ as part of their Getting a Handle on Data Science series.\n",
    "\n",
    "The article was titled Data Science Up and Down the Ladder of Abstraction and in it he set out his reasons for adopting Clojure, including its:\n",
    "\n",
    " - Excellent tooling for REPL-driven development and notebooks for exploratory analysis and live charting.\n",
    " - Suitability for creating shareable browser-based visualisations and interactive simulations with modern UI frameworks like Facebook's React.\n",
    " - Interoperability with Java, JavaScript, and Scala for making use of established and actively developed numerical optimisation, distributed computing, and machine learning libraries.\n",
    " - Data-oriented functional core with a focus on composable sequence processing interfaces which scale with the volume of data you have.\n",
    " - Clean and unambiguous syntax which even aids my comprehension of transcribed algorithms.\n",
    " - Macro system which enables extensibility at the language level for custom algorithmic abstractions and cleaner code.\n",
    " \n",
    "You can read the full article [here](https://www.infoq.com/articles/data-science-abstraction)."
   ]
  },
  {
   "cell_type": "markdown",
   "metadata": {},
   "source": [
    "## So what does Clojure syntax look like"
   ]
  },
  {
   "cell_type": "markdown",
   "metadata": {},
   "source": [
    " - Clojure is a lisp so statements look like (func-name arg1 arg2 ...)\n",
    " - Go ahead try Hello, World!"
   ]
  },
  {
   "cell_type": "code",
   "execution_count": 1,
   "metadata": {},
   "outputs": [
    {
     "name": "stdout",
     "output_type": "stream",
     "text": [
      "Hello, World!\n"
     ]
    }
   ],
   "source": [
    "(println \"Hello, World!\")"
   ]
  },
  {
   "cell_type": "markdown",
   "metadata": {},
   "source": [
    " - Function names don't have to be words. Try some math functions:"
   ]
  },
  {
   "cell_type": "code",
   "execution_count": 2,
   "metadata": {},
   "outputs": [
    {
     "data": {
      "text/plain": [
       "3"
      ]
     },
     "execution_count": 2,
     "metadata": {},
     "output_type": "execute_result"
    }
   ],
   "source": [
    "(+ 1 2)"
   ]
  },
  {
   "cell_type": "code",
   "execution_count": 3,
   "metadata": {},
   "outputs": [
    {
     "data": {
      "text/plain": [
       "22/7"
      ]
     },
     "execution_count": 3,
     "metadata": {},
     "output_type": "execute_result"
    }
   ],
   "source": [
    "(/ 22 7)"
   ]
  },
  {
   "cell_type": "code",
   "execution_count": 4,
   "metadata": {},
   "outputs": [
    {
     "data": {
      "text/plain": [
       "3.142857142857143"
      ]
     },
     "execution_count": 4,
     "metadata": {},
     "output_type": "execute_result"
    }
   ],
   "source": [
    "(/ 22.0 7)"
   ]
  },
  {
   "cell_type": "code",
   "execution_count": 5,
   "metadata": {},
   "outputs": [
    {
     "data": {
      "text/plain": [
       "15"
      ]
     },
     "execution_count": 5,
     "metadata": {},
     "output_type": "execute_result"
    }
   ],
   "source": [
    "(+ 1 2 3 4 5)"
   ]
  },
  {
   "cell_type": "markdown",
   "metadata": {},
   "source": [
    " - You can define your own functions with defn. Use the following form to define a function named triple that triples its argument."
   ]
  },
  {
   "cell_type": "code",
   "execution_count": 6,
   "metadata": {},
   "outputs": [
    {
     "data": {
      "text/plain": [
       "#'user/triple"
      ]
     },
     "execution_count": 6,
     "metadata": {},
     "output_type": "execute_result"
    }
   ],
   "source": [
    "(defn triple [n] (* 3 n))"
   ]
  },
  {
   "cell_type": "markdown",
   "metadata": {},
   "source": [
    "### Some data types\n",
    "\n",
    " - numbers - 1 2.0 3M 2/3\n",
    " - booleans - true false\n",
    " - symbols - + triple defn\n",
    " - keywords - :a :first-name\n",
    " - strings - \"Hello, World\"\n",
    " - character literals - \\a \\b\n",
    " - lists - (1 2 3) (1 \"one\" :one) ()\n",
    " - vectors - \\[1 2 3\\] []\n",
    " - sets - #{1 2 3} #{}\n",
    " - maps - {:a 1 :b 2}\n",
    " - [For more info](http://45.79.209.162:8081/labs/its-all-data)"
   ]
  },
  {
   "cell_type": "markdown",
   "metadata": {},
   "source": [
    "### Java Interopt"
   ]
  },
  {
   "cell_type": "markdown",
   "metadata": {},
   "source": [
    " - Clojure provides direct, unproxied access to Java. To call a static method use a form like (Classname/method arg1 arg2 ...)"
   ]
  },
  {
   "cell_type": "code",
   "execution_count": 2,
   "metadata": {},
   "outputs": [
    {
     "data": {
      "text/plain": [
       "\"/home/jtcummi/.local/share/jupyter/kernels/clojure/clojupyter\""
      ]
     },
     "execution_count": 2,
     "metadata": {},
     "output_type": "execute_result"
    }
   ],
   "source": [
    "(System/getProperty \"java.class.path\")"
   ]
  },
  {
   "cell_type": "markdown",
   "metadata": {},
   "source": [
    " - You can also import and create instances of Java Classes. For now, stuff your instance into a global using def:"
   ]
  },
  {
   "cell_type": "code",
   "execution_count": 1,
   "metadata": {},
   "outputs": [
    {
     "data": {
      "text/plain": [
       "java.util.Date"
      ]
     },
     "execution_count": 1,
     "metadata": {},
     "output_type": "execute_result"
    }
   ],
   "source": [
    "(import java.util.Date)"
   ]
  },
  {
   "cell_type": "code",
   "execution_count": 2,
   "metadata": {},
   "outputs": [
    {
     "data": {
      "text/plain": [
       "#'user/now"
      ]
     },
     "execution_count": 2,
     "metadata": {},
     "output_type": "execute_result"
    }
   ],
   "source": [
    "(def now (Date.))"
   ]
  },
  {
   "cell_type": "markdown",
   "metadata": {},
   "source": [
    " - Passing a class instance to the \"str\" function is like calling the \"toString\" method on it."
   ]
  },
  {
   "cell_type": "code",
   "execution_count": 3,
   "metadata": {},
   "outputs": [
    {
     "data": {
      "text/plain": [
       "\"Tue Jun 26 23:50:58 UTC 2018\""
      ]
     },
     "execution_count": 3,
     "metadata": {},
     "output_type": "execute_result"
    }
   ],
   "source": [
    "(str now)"
   ]
  },
  {
   "cell_type": "code",
   "execution_count": 4,
   "metadata": {},
   "outputs": [
    {
     "data": {
      "text/plain": [
       "\"Tue Jun 26 23:50:58 UTC 2018\""
      ]
     },
     "execution_count": 4,
     "metadata": {},
     "output_type": "execute_result"
    }
   ],
   "source": [
    "(.toString now)"
   ]
  },
  {
   "cell_type": "markdown",
   "metadata": {},
   "source": [
    " - You can also call any other puplic methods"
   ]
  },
  {
   "cell_type": "code",
   "execution_count": 13,
   "metadata": {},
   "outputs": [
    {
     "data": {
      "text/plain": [
       "2"
      ]
     },
     "execution_count": 13,
     "metadata": {},
     "output_type": "execute_result"
    }
   ],
   "source": [
    "(.getMonth now)"
   ]
  },
  {
   "cell_type": "code",
   "execution_count": 14,
   "metadata": {},
   "outputs": [
    {
     "data": {
      "text/plain": [
       "\"30 Mar 2018 15:25:41 GMT\""
      ]
     },
     "execution_count": 14,
     "metadata": {},
     "output_type": "execute_result"
    }
   ],
   "source": [
    "(.toGMTString now)"
   ]
  },
  {
   "cell_type": "markdown",
   "metadata": {},
   "source": [
    " - Using the \"type\" function allow you to get more info about a class."
   ]
  },
  {
   "cell_type": "code",
   "execution_count": 15,
   "metadata": {},
   "outputs": [
    {
     "data": {
      "text/plain": [
       "java.util.Date"
      ]
     },
     "execution_count": 15,
     "metadata": {},
     "output_type": "execute_result"
    }
   ],
   "source": [
    "(type now)"
   ]
  },
  {
   "cell_type": "markdown",
   "metadata": {},
   "source": [
    "## How do you install clojupyter plug-in into Jupyter\n",
    "\n",
    " - Easiest to install on Linux or MacOs\n",
    " - Need Java installed \n",
    " - Need to install [Leiningen](https://leiningen.org/) (Clojure build tool)\n",
    " - Install git client \n",
    " - git clone https://github.com/clojupyter/clojupyter.git\n",
    " - follow directions at https://github.com/clojupyter/clojupyter\n",
    " \n",
    " - There is also a Docker container, if you have access to Docker\n",
    "   - https://github.com/kxxoling/jupyter-clojure-docker\n",
    "   - The only problem is that this is an older version of clojupyter"
   ]
  },
  {
   "cell_type": "markdown",
   "metadata": {},
   "source": [
    "## Examples of what you can do with Clojure (clojupyter)\n",
    "\n",
    " - Create and read Excel spreadsheets"
   ]
  },
  {
   "cell_type": "code",
   "execution_count": 7,
   "metadata": {},
   "outputs": [],
   "source": [
    "(require '[clojupyter.misc.helper :as helper])"
   ]
  },
  {
   "cell_type": "code",
   "execution_count": 23,
   "metadata": {},
   "outputs": [],
   "source": [
    "(helper/add-dependencies '[com.vijaykiran/docjure \"1.7.0\"]) ; actually making a remote library available to us\n",
    "(require '[dk.ative.docjure.spreadsheet :as ss])"
   ]
  },
  {
   "cell_type": "code",
   "execution_count": 24,
   "metadata": {},
   "outputs": [],
   "source": [
    ";; Create a spreadsheet and save it\n",
    "(let [wb (ss/create-workbook \"Price List\"\n",
    "                          [[\"Name\" \"Price\"]\n",
    "                           [\"Foo Widget\" 100]\n",
    "                           [\"Bar Widget\" 200]\n",
    "                           [\"Baz Widget\" 300]\n",
    "                           [\"Biz Widget\" 400]])\n",
    "      sheet (ss/select-sheet \"Price List\" wb)\n",
    "      header-row (first (ss/row-seq sheet))]\n",
    "  (do\n",
    "    (ss/set-row-style! header-row (ss/create-cell-style! wb {:background :yellow,\n",
    "                                                       :font {:bold true}}))\n",
    "    (ss/save-workbook! \"spreadsheet.xlsx\" wb)))"
   ]
  },
  {
   "cell_type": "code",
   "execution_count": 25,
   "metadata": {},
   "outputs": [
    {
     "name": "stdout",
     "output_type": "stream",
     "text": [
      "([\"Name\" \"Price\"]\n",
      " [\"Foo Widget\" 100.0]\n",
      " [\"Bar Widget\" 200.0]\n",
      " [\"Baz Widget\" 300.0]\n",
      " [\"Biz Widget\" 400.0])\n"
     ]
    }
   ],
   "source": [
    ";; Read from spreadsheet just created\n",
    "(->> (ss/load-workbook \"spreadsheet.xlsx\")\n",
    "     (ss/select-sheet \"Price List\")\n",
    "     (ss/select-columns {:A :name, :B :price})\n",
    "     (map (juxt :name :price))\n",
    "     clojure.pprint/pprint)"
   ]
  },
  {
   "cell_type": "markdown",
   "metadata": {},
   "source": [
    " - Process Textual Data (word list)"
   ]
  },
  {
   "cell_type": "code",
   "execution_count": 5,
   "metadata": {},
   "outputs": [
    {
     "data": {
      "text/plain": [
       "#'user/words"
      ]
     },
     "execution_count": 5,
     "metadata": {},
     "output_type": "execute_result"
    }
   ],
   "source": [
    "(def words-file (slurp \"data/words\"))\n",
    "(def words (clojure.string/split words-file #\"\\r\\n\"))"
   ]
  },
  {
   "cell_type": "code",
   "execution_count": 6,
   "metadata": {},
   "outputs": [
    {
     "data": {
      "text/plain": [
       "234936"
      ]
     },
     "execution_count": 6,
     "metadata": {},
     "output_type": "execute_result"
    }
   ],
   "source": [
    "(count words)"
   ]
  },
  {
   "cell_type": "code",
   "execution_count": 7,
   "metadata": {},
   "outputs": [
    {
     "data": {
      "text/plain": [
       "(\"A\" \"a\" \"aa\" \"aal\" \"aalii\")"
      ]
     },
     "execution_count": 7,
     "metadata": {},
     "output_type": "execute_result"
    }
   ],
   "source": [
    "(take 5 words)"
   ]
  },
  {
   "cell_type": "code",
   "execution_count": 8,
   "metadata": {},
   "outputs": [
    {
     "data": {
      "text/plain": [
       "2251877"
      ]
     },
     "execution_count": 8,
     "metadata": {},
     "output_type": "execute_result"
    }
   ],
   "source": [
    "(reduce + (map count words))"
   ]
  },
  {
   "cell_type": "code",
   "execution_count": 9,
   "metadata": {},
   "outputs": [
    {
     "data": {
      "text/plain": [
       "9.585066"
      ]
     },
     "execution_count": 9,
     "metadata": {},
     "output_type": "execute_result"
    }
   ],
   "source": [
    "(float (/ (reduce + (map count words)) \n",
    "          (count words)))"
   ]
  },
  {
   "cell_type": "code",
   "execution_count": 10,
   "metadata": {},
   "outputs": [
    {
     "data": {
      "text/plain": [
       "9.585065720025879"
      ]
     },
     "execution_count": 10,
     "metadata": {},
     "output_type": "execute_result"
    }
   ],
   "source": [
    "(double (/ (reduce + (map count words)) \n",
    "           (count words)))"
   ]
  },
  {
   "cell_type": "code",
   "execution_count": 11,
   "metadata": {},
   "outputs": [
    {
     "name": "stdout",
     "output_type": "stream",
     "text": [
      "([1 52]\n",
      " [2 155]\n",
      " [3 1351]\n",
      " [4 5110]\n",
      " [5 9987]\n",
      " [6 17477]\n",
      " [7 23734]\n",
      " [8 29926]\n",
      " [9 32380]\n",
      " [10 30867]\n",
      " [11 26010]\n",
      " [12 20460]\n",
      " [13 14937]\n",
      " [14 9763]\n",
      " [15 5924]\n",
      " [16 3377]\n",
      " [17 1813]\n",
      " [18 842]\n",
      " [19 428]\n",
      " [20 198]\n",
      " [21 82]\n",
      " [22 41]\n",
      " [23 17]\n",
      " [24 5])\n"
     ]
    }
   ],
   "source": [
    "(->> words\n",
    "     (map count)\n",
    "     frequencies\n",
    "     sort\n",
    "     clojure.pprint/pprint)"
   ]
  },
  {
   "cell_type": "markdown",
   "metadata": {},
   "source": [
    "Let's define some functions for \"Word processing\""
   ]
  },
  {
   "cell_type": "code",
   "execution_count": 12,
   "metadata": {},
   "outputs": [
    {
     "data": {
      "text/plain": [
       "#'user/find-matching-words"
      ]
     },
     "execution_count": 12,
     "metadata": {},
     "output_type": "execute_result"
    }
   ],
   "source": [
    "(defn lower [s] (.toLowerCase s))\n",
    "\n",
    "(defn w2cf \n",
    "  [w] \n",
    "  (frequencies (sort (map (comp keyword lower str) (seq w)))))\n",
    "\n",
    "(defn cf2wl\n",
    "  [cf]\n",
    "  (filter #(= cf (w2cf %)) words))\n",
    "\n",
    "\n",
    "(defn find-matching-words \n",
    "  [w] \n",
    "  (filter #(and (= (count w) (count %)) \n",
    "                (= (w2cf w) (w2cf %)))  \n",
    "          words))"
   ]
  },
  {
   "cell_type": "code",
   "execution_count": 13,
   "metadata": {},
   "outputs": [
    {
     "data": {
      "text/plain": [
       "{:a 1, :r 1, :t 1}"
      ]
     },
     "execution_count": 13,
     "metadata": {},
     "output_type": "execute_result"
    }
   ],
   "source": [
    "(w2cf \"art\")"
   ]
  },
  {
   "cell_type": "code",
   "execution_count": 14,
   "metadata": {},
   "outputs": [
    {
     "data": {
      "text/plain": [
       "{:a 1, :r 1, :t 1}"
      ]
     },
     "execution_count": 14,
     "metadata": {},
     "output_type": "execute_result"
    }
   ],
   "source": [
    "(w2cf \"tar\")"
   ]
  },
  {
   "cell_type": "code",
   "execution_count": 15,
   "metadata": {},
   "outputs": [
    {
     "data": {
      "text/plain": [
       "(\"Art\" \"art\" \"rat\" \"tar\" \"tra\")"
      ]
     },
     "execution_count": 15,
     "metadata": {},
     "output_type": "execute_result"
    }
   ],
   "source": [
    "(find-matching-words \"tar\")"
   ]
  },
  {
   "cell_type": "markdown",
   "metadata": {},
   "source": [
    "Now we have a tool to solve ![Jumble](https://static.wixstatic.com/media/b95917_4d4e083db2e24179b5a303affa05ffcd.jpg/v1/fill/w_346,h_107,al_c,lg_1,q_80/b95917_4d4e083db2e24179b5a303affa05ffcd.webp \"Jumble\")\n",
    "\n",
    "http://www.jumble.com/playjumble"
   ]
  },
  {
   "cell_type": "code",
   "execution_count": 16,
   "metadata": {},
   "outputs": [
    {
     "data": {
      "text/plain": [
       "(\"grout\")"
      ]
     },
     "execution_count": 16,
     "metadata": {},
     "output_type": "execute_result"
    }
   ],
   "source": [
    "(find-matching-words \"ortgu\")"
   ]
  },
  {
   "cell_type": "code",
   "execution_count": 17,
   "metadata": {},
   "outputs": [
    {
     "data": {
      "text/plain": [
       "(\"fudge\")"
      ]
     },
     "execution_count": 17,
     "metadata": {},
     "output_type": "execute_result"
    }
   ],
   "source": [
    "(find-matching-words \"udefg\")"
   ]
  },
  {
   "cell_type": "code",
   "execution_count": 18,
   "metadata": {},
   "outputs": [
    {
     "data": {
      "text/plain": [
       "(\"alchemist\")"
      ]
     },
     "execution_count": 18,
     "metadata": {},
     "output_type": "execute_result"
    }
   ],
   "source": [
    "(find-matching-words \"acehilmst\")"
   ]
  },
  {
   "cell_type": "markdown",
   "metadata": {},
   "source": [
    " - Programatically create HTML"
   ]
  },
  {
   "cell_type": "code",
   "execution_count": 3,
   "metadata": {},
   "outputs": [],
   "source": [
    "(require '[clojupyter.misc.display :as display])\n",
    "(require '[clojure.repl :as repl])"
   ]
  },
  {
   "cell_type": "code",
   "execution_count": 4,
   "metadata": {},
   "outputs": [
    {
     "name": "stdout",
     "output_type": "stream",
     "text": [
      ">> should print some text\n"
     ]
    },
    {
     "data": {
      "text/html": [
       "<ul><li>a <i>emphatic</i> idea</li><li>a <b>bold</b> idea</li><li>an <span style=\"text-decoration: underline;\">important</span> idea</li><li>test</li></ul>"
      ]
     },
     "execution_count": 4,
     "metadata": {},
     "output_type": "execute_result"
    }
   ],
   "source": [
    "(println \">> should print some text\")\n",
    ";; displaying html\n",
    "(display/hiccup-html \n",
    "    [:ul \n",
    "     [:li \"a \" [:i \"emphatic\"] \" idea\"]\n",
    "     [:li \"a \" [:b \"bold\"] \" idea\"]\n",
    "     [:li \"an \" [:span {:style \"text-decoration: underline;\"} \"important\"] \" idea\"]\n",
    "     [:li \"test\"]])"
   ]
  },
  {
   "cell_type": "markdown",
   "metadata": {},
   "source": [
    "Also can render SVG (within a table)"
   ]
  },
  {
   "cell_type": "code",
   "execution_count": 5,
   "metadata": {},
   "outputs": [
    {
     "data": {
      "text/html": [
       "<table style=\"border: 1px solid black;\"><tr><td style=\"border: 1px solid black;\"><svg height=\"100\" width=\"100\" xmlns=\"http://www.w3.org/2000/svg\"><circle cx=\"50\" cy=\"50\" fill=\"green\" r=\"40\"></circle></svg></td><td style=\"border: 1px solid black;\"><svg height=\"100\" width=\"100\" xmlns=\"http://www.w3.org/2000/svg\"><circle cx=\"50\" cy=\"50\" fill=\"red\" r=\"40\"></circle></svg></td></tr><tr><td style=\"border: 1px solid black;\"><svg height=\"100\" width=\"100\" xmlns=\"http://www.w3.org/2000/svg\"><circle cx=\"50\" cy=\"50\" fill=\"red\" r=\"40\"></circle></svg></td><td style=\"border: 1px solid black;\"><svg height=\"100\" width=\"100\" xmlns=\"http://www.w3.org/2000/svg\"><circle cx=\"50\" cy=\"50\" fill=\"green\" r=\"40\"></circle></svg></td></tr></table>"
      ]
     },
     "execution_count": 5,
     "metadata": {},
     "output_type": "execute_result"
    }
   ],
   "source": [
    "(defn style [& info]\n",
    "  {:style (.trim (apply str (map #(let [[kwd val] %]\n",
    "                                   (str (name kwd) \": \" val \"; \"))\n",
    "                                (apply hash-map info))))})\n",
    "(defn svg-circle\n",
    "    [color]\n",
    "    [:svg {:height 100 :width 100 :xmlns \"http://www.w3.org/2000/svg\"}\n",
    "            [:circle {:cx 50 :cy 50 :r 40 :fill color}]])\n",
    "\n",
    "(display/hiccup-html\n",
    "    [:table (style :border \"1px solid black\")\n",
    "     [:tr \n",
    "      [:td (style :border \"1px solid black\")\n",
    "       (svg-circle \"green\")]\n",
    "      [:td (style :border \"1px solid black\")\n",
    "       (svg-circle \"red\")]]\n",
    "     [:tr \n",
    "      [:td (style :border \"1px solid black\")\n",
    "       (svg-circle \"red\")]\n",
    "      [:td (style :border \"1px solid black\")\n",
    "       (svg-circle \"green\")]]])"
   ]
  },
  {
   "cell_type": "markdown",
   "metadata": {},
   "source": [
    " - Adding External Javascript Dependency\n",
    " \n",
    " Since you can render arbitrary HTML using `display/hiccup-html`, it's pretty easy to use external Javascript libraries to do things like generate charts. Here's an example using [Highcharts](https://www.highcharts.com/).\n",
    "\n",
    "First, we use a cell to add javascript to the running notebook:"
   ]
  },
  {
   "cell_type": "code",
   "execution_count": 8,
   "metadata": {},
   "outputs": [
    {
     "data": {
      "text/html": [
       "<script src=\"https://code.highcharts.com/highcharts.js\"></script>"
      ]
     },
     "execution_count": 8,
     "metadata": {},
     "output_type": "execute_result"
    }
   ],
   "source": [
    "(helper/add-javascript \"https://code.highcharts.com/highcharts.js\")"
   ]
  },
  {
   "cell_type": "markdown",
   "metadata": {},
   "source": [
    "Now we define a function which takes Clojure data and returns hiccup HTML to display:"
   ]
  },
  {
   "cell_type": "code",
   "execution_count": 9,
   "metadata": {},
   "outputs": [],
   "source": [
    "(require '[clojure.data.json :as json])"
   ]
  },
  {
   "cell_type": "code",
   "execution_count": 10,
   "metadata": {},
   "outputs": [
    {
     "data": {
      "text/plain": [
       "#'user/plot-highchart"
      ]
     },
     "execution_count": 10,
     "metadata": {},
     "output_type": "execute_result"
    }
   ],
   "source": [
    "(defn plot-highchart [highchart-json]\n",
    "  (let [id (str (java.util.UUID/randomUUID))\n",
    "        code (format \"Highcharts.chart('%s', %s );\" id, (json/write-str highchart-json))]\n",
    "      (display/hiccup-html \n",
    "        [:div [:div {:id id :style {:background-color \"red\"}}]\n",
    "                   [:script code]])))"
   ]
  },
  {
   "cell_type": "markdown",
   "metadata": {},
   "source": [
    "Now we can make generate interactive plots (try hovering over plot):"
   ]
  },
  {
   "cell_type": "code",
   "execution_count": 11,
   "metadata": {},
   "outputs": [
    {
     "data": {
      "text/html": [
       "<div><div id=\"7e16c56f-ac48-4402-9dc4-323773a7ebc7\" style=\"{:background-color &quot;red&quot;}\"></div><script>Highcharts.chart('7e16c56f-ac48-4402-9dc4-323773a7ebc7', {\"chart\":{\"type\":\"line\"},\"title\":{\"text\":\"Plot of random data\"},\"series\":[{\"data\":[31.035385735632147,2123.359833105725,4887.073565633024,5713.703468990416,7129.905369730104,9892.850918048707,10463.109031085723,13112.94392814322,13773.51289241798,16991.568742987765,18615.453369949264,20326.139056748296,21591.34294886169,22941.636465693045,24699.723131465827,27423.52050924621,28649.52436899695,29219.108143185615,31063.009989889146,34183.80211360575,35233.632174809376,37202.66402915785,37948.119256212805,39998.48352001259,41820.458912277616,43089.25511042556,45688.51043221087,46869.470911284865,48791.80823752662,50678.55856230404,53137.30737436316,54505.89463964311,55828.52341880646,57379.92361264991,59040.46808994601,61201.88296746564,63020.249281964636,63532.42761545384,66785.0511700241,67508.05470667063,69795.83551084969,70382.72916641975,72356.4900847434,74891.62223949376,75844.82523515746,78432.5962623161,79951.88234856885,82045.25080193492,82806.13219802843,84872.30388698807,87267.52486208484,88377.198434666,90373.79523025738,92257.53717877228,93960.2731856484,95186.76511223566,96203.60957688463,98098.00201357095,100333.7760336452,101579.70835501146,104414.46837044226,104773.63716105642,106678.23316306615,108864.03656973521,110552.40913274775,112063.13748182089,113284.04828846888,115643.47027483687,117779.64452535822,118847.44045671984,120447.59543967253,122781.86547589273,123725.26659822102,125997.89312740711,128211.29074076096,128703.02171643656,130604.85006922705,132923.00936487646,135414.25845156296,137272.55222006852,138734.8385363162,140285.04287535837,142022.10336975733,142601.8714815971,145794.3844989551,147516.04302888253,148778.64873493643,149770.86023765372,152598.22279433373,153478.62727897087,154866.97231581257,156733.39631708336,158255.193314425,159857.39481402113,162037.66992069772,163336.6940749459,164878.18798373218,167088.72298303875,168238.99934297087,170219.27326351384,172350.58316323344,174443.62910384836,176410.40431379047,178033.38348552244,179765.62794030516,180630.44692269224,183177.89170520988,184897.8376950405,186474.79451698926,187325.25802283874,189672.8321469812,191310.4633385904,193156.7565883996,194184.33556411203,195716.97720243005,198591.75808645703,200766.44751066418,201920.2983947935,202907.83409104406,204796.8408649694,206371.55892057484,208688.24026689373,209448.01082958703,211157.41837175752,213459.87711986032,216165.79053139078,216933.7433000891,218179.2405198085,221073.013759354,221473.87893369363,223731.53804795883,225063.39781845873,226714.37237416639,229356.91815031177,231207.71153838356,232453.81677310038,233867.60374397936,235582.184911863,237161.5808390256,239834.4394734851,240290.33607552623,243664.3711323874,244701.1562938831,245799.8258869899,247780.62855402275,250340.5935556216,251410.41173616188,253854.2980382487,254770.38014170458,256341.59122266746,258673.55323304483,260073.24736171233,261600.8363908515,262890.4071705579,264440.18157270766,266857.85721869423,268700.372468438,269950.541400397,271403.8406592201,273447.2449712748,275737.8899205788,276461.3790942067,278533.1666913818,280303.90765085816,281910.4507755569,283155.63952142454,286255.70093010325,286635.3591574583,288457.18207026913,291027.65705916,292393.401187396,294964.97574177245,295397.0191644599,297136.49712423334,299969.98489563033,300798.32012792,303117.5171522729,303888.22721893375,307061.4597384553,307215.59420663276,310587.7428650102,311323.10322322504,314010.54450358124,314836.3733630474,315986.1732070821,318971.99868898746,319185.1566834997,321373.4049616904,322660.5570143024,325486.095195039,326418.7398004876,328482.0074782476,330138.8612313595,331492.6698680552,333961.92706958,335816.4848085879,337336.70490701485,338187.7554436554,340996.8852577508,342592.97551984974,343569.09619707364,345955.51660952903,348129.6549835232,348545.28460795333,351764.8214447284,352620.3763464058,353849.901867922,355338.4997307996,357872.49681969674,358963.2433674191,361919.715411972,363078.57277431426,364094.07739013335,366967.6326908318,368691.43987712055,370560.5511839528,371932.5283804927,372545.0375528386,374638.99449897365,376001.77331709396,378951.3999617291,380049.60314562777,381209.7379976404,383541.09425522346,385523.2048576672,387473.9679314772,389332.6542529231,389691.08963052166,391910.7855667156,393677.08083221415,395053.485181314,397351.1868869097,398705.2661417058,400254.86779663566,402644.4075309266,404933.8038608786,405111.72014375456,407297.81396484416,408874.9500177852,410130.82718878624,412197.34547735716,414165.84299395647,416480.06826564885,417234.1432201184,420220.7227470932,421538.31689428055,422404.6434674916,423901.4369053768,425752.64320164965,428833.5462867512,429573.1432613315,430727.10359847784,432579.0282656384,435069.8924334477,436172.7808245447,438425.8727700478,440580.6220354636,441891.35794628196,442984.230690255,445707.62091179576,447376.42428200075,448828.50609415583,450809.8082485378,452403.8555967182,453406.23990855104,455514.6133782803,457366.9911688491,458579.480958069,460184.2585660006,462875.15248682705,463707.25997781777,465547.7087307345,467940.23551160144,469044.01878237474,471150.45704334666,472273.35874315514,475025.6320414463,475636.3549853742,478409.21086006635,478944.29544121603,481322.9827981594,482237.39492695336,484068.4452911329,486440.3770912619,487729.7931709154,490545.43904979725,491053.59109262214,493254.04691477213,494481.429387079,496366.8900744885,498883.8398594658,500648.57612660713,501742.7496840896,502930.2197588859,506127.62766775355,506442.97054796794,508251.63502439327,511103.8024083397,512868.5090394936,514474.68342910445,515295.1125332036,517641.7443930752,519258.67896783084,520036.5297509543,522460.425477192,524142.15285542235,525348.6235566103,527688.576130828,529081.1885509212,531659.7305303451,532174.7276832227,534141.2858418192,536712.6774174862,537509.1484895532,540006.1406298754,540724.8249734605,543380.336655843,545039.3402267247,546993.7977946819,547945.1922340462,550343.7501928444,550915.6778062019,553068.2203591511,554348.7115295515,556880.6039403239,559316.9310894873,559502.5612405238,562244.4320975385,562857.5799011393,565828.9779128183,566993.3391429252,569569.1088251378,571313.6567287219,572685.4249296689,573229.3998952984,575825.6897083829,576599.9514232747,579762.6144012763,580459.8666516739,582415.6161702138,584131.0223909916,586826.9342266605,587906.1886976078,590269.7462714706,591833.4639462966,593607.9147264998,595123.8711748043,596082.338728661,598212.6576773622,599535.2872577129,602142.0649784333,603851.2910064794,605401.7060526701,607211.9954870373,607969.9198276731,609877.7023912072,611103.8591160945,614318.0928027217,615649.4503262495,616822.8376037236,619451.1552049378,620020.52436773,621999.6381682333,623784.6949560769,625641.5310227044,626524.9846506555,628803.5901553564,631331.6374412773,632788.3182001687,633440.3574087261,636359.7961061463,637804.9236311376,638459.8267010077,640357.6864472266,642893.8765593783,645091.4793502484,646222.6272316326,648574.1918879338,649512.6843854197,651428.8800539847,652526.1786784313,654858.5380946231,656274.2205496801,657236.2673579657,660478.6080170394,661988.3760309301,663148.548638479,665571.8030611175,665907.7336454414,668943.1237187115,670924.7387875995,672607.2662343092,673145.8353084008,674616.0155413584,676684.8454077978,679447.5300063058,680345.2071104966,682183.6420181887,683182.0205394736,686006.9062581641,686712.1910538242,688142.5181530457,690082.0865320897,692441.7274602047,694704.1742458442,695934.6600466901,698032.2409222486,698737.0372465745,700686.9414851884,703117.7161840883,703963.0373543606,706030.8911835698,707146.8121017754,709525.8900533125,710694.3854143228,713776.5226115335,714445.1483125142,716307.7085881963,718463.0341387921,719506.5071138778,721124.1086290546,723835.6312891642,724917.8516610587,726738.0643180219,728385.9296980767,730672.5621127744,732668.1866779467,734284.7627846517,735273.5545948907,737531.5162903353,738851.6940993767,740469.1491630352,741722.0868686857,743737.0129951031,745211.231336632,747691.200955654,749216.3336659565,750866.202892858,753323.7771368057,754371.0066994452,755943.6117962631,757770.3095604262,758739.8005778367,760438.7050394522,762765.0265009033,764888.6523722225,766849.1021153453,767454.4701321828,769402.5913576623,771536.3361432762,772524.8742042925,774398.207655037,775653.8443432295,778088.6345155428,780459.5743708467,781384.6304466676,783216.0242604655,785876.1591688965,787374.1781692968,788578.5128273213,790184.4077140283,791501.099929438,792976.4752474998,795343.1738568018,797928.0656726535,799186.1360078704,801112.2964588384,801660.6219741739,804165.0859383916,806270.0606090721,807243.9053142017,808990.2943283267,809974.2153954001,812183.7273768882,814502.2619625877,816132.9551842753,817986.913245637,818692.6189307817,821938.4639876016,822781.0708940837,824282.9655780582,825746.1532978616,828444.3913883122,829206.8573009772,832060.096652935,833636.7863110825,835479.4314378218,837332.2006092313,838003.4230091213,840060.0341426389,841173.1304569072,844168.780404949,845584.1315387168,847299.7314004253,847808.7183779898,850531.9781031269,852020.4219438729,853453.1566604654,854601.6744965295,857318.5330162597]},{\"data\":[857318.5330162597,854601.6744965295,853453.1566604654,852020.4219438729,850531.9781031269,847808.7183779898,847299.7314004253,845584.1315387168,844168.780404949,841173.1304569072,840060.0341426389,838003.4230091213,837332.2006092313,835479.4314378218,833636.7863110825,832060.096652935,829206.8573009772,828444.3913883122,825746.1532978616,824282.9655780582,822781.0708940837,821938.4639876016,818692.6189307817,817986.913245637,816132.9551842753,814502.2619625877,812183.7273768882,809974.2153954001,808990.2943283267,807243.9053142017,806270.0606090721,804165.0859383916,801660.6219741739,801112.2964588384,799186.1360078704,797928.0656726535,795343.1738568018,792976.4752474998,791501.099929438,790184.4077140283,788578.5128273213,787374.1781692968,785876.1591688965,783216.0242604655,781384.6304466676,780459.5743708467,778088.6345155428,775653.8443432295,774398.207655037,772524.8742042925,771536.3361432762,769402.5913576623,767454.4701321828,766849.1021153453,764888.6523722225,762765.0265009033,760438.7050394522,758739.8005778367,757770.3095604262,755943.6117962631,754371.0066994452,753323.7771368057,750866.202892858,749216.3336659565,747691.200955654,745211.231336632,743737.0129951031,741722.0868686857,740469.1491630352,738851.6940993767,737531.5162903353,735273.5545948907,734284.7627846517,732668.1866779467,730672.5621127744,728385.9296980767,726738.0643180219,724917.8516610587,723835.6312891642,721124.1086290546,719506.5071138778,718463.0341387921,716307.7085881963,714445.1483125142,713776.5226115335,710694.3854143228,709525.8900533125,707146.8121017754,706030.8911835698,703963.0373543606,703117.7161840883,700686.9414851884,698737.0372465745,698032.2409222486,695934.6600466901,694704.1742458442,692441.7274602047,690082.0865320897,688142.5181530457,686712.1910538242,686006.9062581641,683182.0205394736,682183.6420181887,680345.2071104966,679447.5300063058,676684.8454077978,674616.0155413584,673145.8353084008,672607.2662343092,670924.7387875995,668943.1237187115,665907.7336454414,665571.8030611175,663148.548638479,661988.3760309301,660478.6080170394,657236.2673579657,656274.2205496801,654858.5380946231,652526.1786784313,651428.8800539847,649512.6843854197,648574.1918879338,646222.6272316326,645091.4793502484,642893.8765593783,640357.6864472266,638459.8267010077,637804.9236311376,636359.7961061463,633440.3574087261,632788.3182001687,631331.6374412773,628803.5901553564,626524.9846506555,625641.5310227044,623784.6949560769,621999.6381682333,620020.52436773,619451.1552049378,616822.8376037236,615649.4503262495,614318.0928027217,611103.8591160945,609877.7023912072,607969.9198276731,607211.9954870373,605401.7060526701,603851.2910064794,602142.0649784333,599535.2872577129,598212.6576773622,596082.338728661,595123.8711748043,593607.9147264998,591833.4639462966,590269.7462714706,587906.1886976078,586826.9342266605,584131.0223909916,582415.6161702138,580459.8666516739,579762.6144012763,576599.9514232747,575825.6897083829,573229.3998952984,572685.4249296689,571313.6567287219,569569.1088251378,566993.3391429252,565828.9779128183,562857.5799011393,562244.4320975385,559502.5612405238,559316.9310894873,556880.6039403239,554348.7115295515,553068.2203591511,550915.6778062019,550343.7501928444,547945.1922340462,546993.7977946819,545039.3402267247,543380.336655843,540724.8249734605,540006.1406298754,537509.1484895532,536712.6774174862,534141.2858418192,532174.7276832227,531659.7305303451,529081.1885509212,527688.576130828,525348.6235566103,524142.15285542235,522460.425477192,520036.5297509543,519258.67896783084,517641.7443930752,515295.1125332036,514474.68342910445,512868.5090394936,511103.8024083397,508251.63502439327,506442.97054796794,506127.62766775355,502930.2197588859,501742.7496840896,500648.57612660713,498883.8398594658,496366.8900744885,494481.429387079,493254.04691477213,491053.59109262214,490545.43904979725,487729.7931709154,486440.3770912619,484068.4452911329,482237.39492695336,481322.9827981594,478944.29544121603,478409.21086006635,475636.3549853742,475025.6320414463,472273.35874315514,471150.45704334666,469044.01878237474,467940.23551160144,465547.7087307345,463707.25997781777,462875.15248682705,460184.2585660006,458579.480958069,457366.9911688491,455514.6133782803,453406.23990855104,452403.8555967182,450809.8082485378,448828.50609415583,447376.42428200075,445707.62091179576,442984.230690255,441891.35794628196,440580.6220354636,438425.8727700478,436172.7808245447,435069.8924334477,432579.0282656384,430727.10359847784,429573.1432613315,428833.5462867512,425752.64320164965,423901.4369053768,422404.6434674916,421538.31689428055,420220.7227470932,417234.1432201184,416480.06826564885,414165.84299395647,412197.34547735716,410130.82718878624,408874.9500177852,407297.81396484416,405111.72014375456,404933.8038608786,402644.4075309266,400254.86779663566,398705.2661417058,397351.1868869097,395053.485181314,393677.08083221415,391910.7855667156,389691.08963052166,389332.6542529231,387473.9679314772,385523.2048576672,383541.09425522346,381209.7379976404,380049.60314562777,378951.3999617291,376001.77331709396,374638.99449897365,372545.0375528386,371932.5283804927,370560.5511839528,368691.43987712055,366967.6326908318,364094.07739013335,363078.57277431426,361919.715411972,358963.2433674191,357872.49681969674,355338.4997307996,353849.901867922,352620.3763464058,351764.8214447284,348545.28460795333,348129.6549835232,345955.51660952903,343569.09619707364,342592.97551984974,340996.8852577508,338187.7554436554,337336.70490701485,335816.4848085879,333961.92706958,331492.6698680552,330138.8612313595,328482.0074782476,326418.7398004876,325486.095195039,322660.5570143024,321373.4049616904,319185.1566834997,318971.99868898746,315986.1732070821,314836.3733630474,314010.54450358124,311323.10322322504,310587.7428650102,307215.59420663276,307061.4597384553,303888.22721893375,303117.5171522729,300798.32012792,299969.98489563033,297136.49712423334,295397.0191644599,294964.97574177245,292393.401187396,291027.65705916,288457.18207026913,286635.3591574583,286255.70093010325,283155.63952142454,281910.4507755569,280303.90765085816,278533.1666913818,276461.3790942067,275737.8899205788,273447.2449712748,271403.8406592201,269950.541400397,268700.372468438,266857.85721869423,264440.18157270766,262890.4071705579,261600.8363908515,260073.24736171233,258673.55323304483,256341.59122266746,254770.38014170458,253854.2980382487,251410.41173616188,250340.5935556216,247780.62855402275,245799.8258869899,244701.1562938831,243664.3711323874,240290.33607552623,239834.4394734851,237161.5808390256,235582.184911863,233867.60374397936,232453.81677310038,231207.71153838356,229356.91815031177,226714.37237416639,225063.39781845873,223731.53804795883,221473.87893369363,221073.013759354,218179.2405198085,216933.7433000891,216165.79053139078,213459.87711986032,211157.41837175752,209448.01082958703,208688.24026689373,206371.55892057484,204796.8408649694,202907.83409104406,201920.2983947935,200766.44751066418,198591.75808645703,195716.97720243005,194184.33556411203,193156.7565883996,191310.4633385904,189672.8321469812,187325.25802283874,186474.79451698926,184897.8376950405,183177.89170520988,180630.44692269224,179765.62794030516,178033.38348552244,176410.40431379047,174443.62910384836,172350.58316323344,170219.27326351384,168238.99934297087,167088.72298303875,164878.18798373218,163336.6940749459,162037.66992069772,159857.39481402113,158255.193314425,156733.39631708336,154866.97231581257,153478.62727897087,152598.22279433373,149770.86023765372,148778.64873493643,147516.04302888253,145794.3844989551,142601.8714815971,142022.10336975733,140285.04287535837,138734.8385363162,137272.55222006852,135414.25845156296,132923.00936487646,130604.85006922705,128703.02171643656,128211.29074076096,125997.89312740711,123725.26659822102,122781.86547589273,120447.59543967253,118847.44045671984,117779.64452535822,115643.47027483687,113284.04828846888,112063.13748182089,110552.40913274775,108864.03656973521,106678.23316306615,104773.63716105642,104414.46837044226,101579.70835501146,100333.7760336452,98098.00201357095,96203.60957688463,95186.76511223566,93960.2731856484,92257.53717877228,90373.79523025738,88377.198434666,87267.52486208484,84872.30388698807,82806.13219802843,82045.25080193492,79951.88234856885,78432.5962623161,75844.82523515746,74891.62223949376,72356.4900847434,70382.72916641975,69795.83551084969,67508.05470667063,66785.0511700241,63532.42761545384,63020.249281964636,61201.88296746564,59040.46808994601,57379.92361264991,55828.52341880646,54505.89463964311,53137.30737436316,50678.55856230404,48791.80823752662,46869.470911284865,45688.51043221087,43089.25511042556,41820.458912277616,39998.48352001259,37948.119256212805,37202.66402915785,35233.632174809376,34183.80211360575,31063.009989889146,29219.108143185615,28649.52436899695,27423.52050924621,24699.723131465827,22941.636465693045,21591.34294886169,20326.139056748296,18615.453369949264,16991.568742987765,13773.51289241798,13112.94392814322,10463.109031085723,9892.850918048707,7129.905369730104,5713.703468990416,4887.073565633024,2123.359833105725,31.035385735632147]},{\"data\":[428674.7842009977,428362.5171648176,429170.1151130492,428867.06270643166,428830.9417364285,428850.7846480193,428881.4202157555,429348.53773343004,428971.14664868347,429082.3495999475,429337.7437562941,429164.7810329348,429461.77177904645,429210.5339517574,429168.2547212742,429741.8085810906,428928.1908349871,428831.7497657489,428404.58164387534,429233.38384583197,429007.3515344465,429570.5640083797,428320.3690934973,428992.6983828248,428976.70704827644,428795.7585365066,428936.1189045495,428421.8431533425,428891.05128292664,428961.23193825287,429703.68399171764,429335.4902890174,428744.5726964902,429246.11003574415,429113.3020489082,429564.9743200596,429181.7115693832,428254.4514314768,429143.07554973103,428846.2312103495,429187.1741690855,428878.45366785827,429116.32462681993,429053.82324997964,428614.7278409125,429446.0853165814,429020.2584320558,428849.54757258226,428602.1699265327,428698.5890456403,429401.93050268054,428889.8948961642,428914.1326812201,429553.3196470588,429424.46277893544,428975.8958065695,428321.1573081684,428418.90129570384,429052.04279703565,428761.6600756373,429392.73753494374,429048.70714893105,428772.218027962,429040.1851178459,429121.8050442009,428637.18440922647,428510.530641786,428682.7785717613,429124.3968441967,428849.56727804826,428989.55586500396,429027.71003539173,429005.0146914364,429333.0399026769,429441.92642676766,428544.47570725664,428671.45719362446,428920.4305129676,429624.9448703636,429198.3304245616,429120.672825097,429374.0385070752,429164.9059789768,428523.5098970556,429785.4535552443,429105.21422160266,429152.2693941245,428458.8361697146,429314.55698895175,428720.83231666574,428992.34424995043,428710.1689011359,428496.1152804998,428944.8178681348,428986.1649836939,429020.43416039506,428659.9577219685,428585.40475756425,428190.7587480083,428465.732158669,429178.7447106988,428812.824821661,429297.0231659896,429189.2952980095,429606.57897330547,428657.64616524504,428896.9536232841,429021.83650172065,429541.0303756492,429124.9984052191,429307.9779328464,428609.09849201585,429364.2798247586,428666.4421012955,428852.67661668005,429535.1830517482,429001.3574343149,429097.2594722368,428883.1860928336,428661.50977170037,428900.21948727977,429100.46232615673,429011.1013587604,428690.02280169504,429275.67823505437,429529.8335453846,428645.7148736578,428319.5336104081,429438.9686952458,428916.83751991997,428585.9477283425,428925.8580093137,429023.0049077218,429080.2541528341,428866.3480945196,429047.6738979024,428826.14935002814,428790.9115400482,428591.05260337784,429642.79733921145,428556.5868396249,429656.91072931845,429509.6245483024,428451.8425015422,428829.165472615,429155.25669164734,429311.20361159963,429628.0020454594,429310.835574092,429241.8281005504,429104.42024537886,429142.9525195373,428841.58755975624,429007.1391726811,429024.04814960377,429345.6605824954,429485.0593699543,428928.36504900246,429115.3874429403,428789.13368113316,429076.7530453963,428460.6228729403,429147.8905463291,428451.92953706643,428868.0702419699,428192.5197083615,429470.56292988604,428974.5079430901,429013.1454477035,429010.4981010426,429111.18955010717,428911.27782145585,428820.7256309992,428319.52918237855,429643.45799255883,428839.46203412197,428733.1143409122,428478.22378904244,428988.56877232855,428779.67219973856,429266.4675495282,429158.4505089534,429524.942365153,429108.35500944516,428355.4990902713,429489.0696594314,428347.15258652647,429043.0411895883,428400.92142806086,428830.4114391309,429039.2351654164,428781.5980145844,428913.7186810938,428420.64671233273,429052.03996250115,429138.4551428899,428686.61732898455,428723.21720574313,429319.314825413,428944.0440265267,429021.88981308904,429412.01282451133,429616.72869593144,428398.4598161733,429103.8959963482,429374.00200707966,428390.0608134039,428540.6247074446,429260.53647315194,428923.5416134425,429143.30274323025,428780.00108069665,428674.06215245277,429010.61189172696,429618.4394634589,429145.1721774341,429186.4527358773,428306.7414219858,428438.19471296354,428662.37805762666,428947.8477014726,429229.40700284706,428423.0464915073,429283.3631483349,428898.2818004112,429312.2124874119,429188.3365176489,428815.6625710615,428729.24714872503,428692.17040501593,428964.3188340705,428767.7227264552,428642.3735498874,428810.9294827424,429079.51045460347,429170.02188471484,428757.7878702364,429053.811106691,428851.7280559705,428753.6257353935,428952.48319457646,428575.03684210574,429185.7131059654,428907.382627791,429323.2977585705,428855.54885941267,428737.2679504696,428240.23258550756,428239.8734000637,429203.3447740413,429203.3447740413,428239.8734000637,428240.23258550756,428737.2679504696,428855.54885941267,429323.2977585705,428907.382627791,429185.7131059654,428575.03684210574,428952.48319457646,428753.6257353935,428851.7280559705,429053.811106691,428757.7878702364,429170.02188471484,429079.51045460347,428810.9294827424,428642.3735498874,428767.7227264552,428964.3188340705,428692.17040501593,428729.24714872503,428815.6625710615,429188.3365176489,429312.2124874119,428898.2818004112,429283.3631483349,428423.0464915073,429229.40700284706,428947.8477014726,428662.37805762666,428438.19471296354,428306.7414219858,429186.4527358773,429145.1721774341,429618.4394634589,429010.61189172696,428674.06215245277,428780.00108069665,429143.30274323025,428923.5416134425,429260.53647315194,428540.6247074446,428390.0608134039,429374.00200707966,429103.8959963482,428398.4598161733,429616.72869593144,429412.01282451133,429021.88981308904,428944.0440265267,429319.314825413,428723.21720574313,428686.61732898455,429138.4551428899,429052.03996250115,428420.64671233273,428913.7186810938,428781.5980145844,429039.2351654164,428830.4114391309,428400.92142806086,429043.0411895883,428347.15258652647,429489.0696594314,428355.4990902713,429108.35500944516,429524.942365153,429158.4505089534,429266.4675495282,428779.67219973856,428988.56877232855,428478.22378904244,428733.1143409122,428839.46203412197,429643.45799255883,428319.52918237855,428820.7256309992,428911.27782145585,429111.18955010717,429010.4981010426,429013.1454477035,428974.5079430901,429470.56292988604,428192.5197083615,428868.0702419699,428451.92953706643,429147.8905463291,428460.6228729403,429076.7530453963,428789.13368113316,429115.3874429403,428928.36504900246,429485.0593699543,429345.6605824954,429024.04814960377,429007.1391726811,428841.58755975624,429142.9525195373,429104.42024537886,429241.8281005504,429310.835574092,429628.0020454594,429311.20361159963,429155.25669164734,428829.165472615,428451.8425015422,429509.6245483024,429656.91072931845,428556.5868396249,429642.79733921145,428591.05260337784,428790.9115400482,428826.14935002814,429047.6738979024,428866.3480945196,429080.2541528341,429023.0049077218,428925.8580093137,428585.9477283425,428916.83751991997,429438.9686952458,428319.5336104081,428645.7148736578,429529.8335453846,429275.67823505437,428690.02280169504,429011.1013587604,429100.46232615673,428900.21948727977,428661.50977170037,428883.1860928336,429097.2594722368,429001.3574343149,429535.1830517482,428852.67661668005,428666.4421012955,429364.2798247586,428609.09849201585,429307.9779328464,429124.9984052191,429541.0303756492,429021.83650172065,428896.9536232841,428657.64616524504,429606.57897330547,429189.2952980095,429297.0231659896,428812.824821661,429178.7447106988,428465.732158669,428190.7587480083,428585.40475756425,428659.9577219685,429020.43416039506,428986.1649836939,428944.8178681348,428496.1152804998,428710.1689011359,428992.34424995043,428720.83231666574,429314.55698895175,428458.8361697146,429152.2693941245,429105.21422160266,429785.4535552443,428523.5098970556,429164.9059789768,429374.0385070752,429120.672825097,429198.3304245616,429624.9448703636,428920.4305129676,428671.45719362446,428544.47570725664,429441.92642676766,429333.0399026769,429005.0146914364,429027.71003539173,428989.55586500396,428849.56727804826,429124.3968441967,428682.7785717613,428510.530641786,428637.18440922647,429121.8050442009,429040.1851178459,428772.218027962,429048.70714893105,429392.73753494374,428761.6600756373,429052.04279703565,428418.90129570384,428321.1573081684,428975.8958065695,429424.46277893544,429553.3196470588,428914.1326812201,428889.8948961642,429401.93050268054,428698.5890456403,428602.1699265327,428849.54757258226,429020.2584320558,429446.0853165814,428614.7278409125,429053.82324997964,429116.32462681993,428878.45366785827,429187.1741690855,428846.2312103495,429143.07554973103,428254.4514314768,429181.7115693832,429564.9743200596,429113.3020489082,429246.11003574415,428744.5726964902,429335.4902890174,429703.68399171764,428961.23193825287,428891.05128292664,428421.8431533425,428936.1189045495,428795.7585365066,428976.70704827644,428992.6983828248,428320.3690934973,429570.5640083797,429007.3515344465,429233.38384583197,428404.58164387534,428831.7497657489,428928.1908349871,429741.8085810906,429168.2547212742,429210.5339517574,429461.77177904645,429164.7810329348,429337.7437562941,429082.3495999475,428971.14664868347,429348.53773343004,428881.4202157555,428850.7846480193,428830.9417364285,428867.06270643166,429170.1151130492,428362.5171648176,428674.7842009977]}]} );</script></div>"
      ]
     },
     "execution_count": 11,
     "metadata": {},
     "output_type": "execute_result"
    }
   ],
   "source": [
    "(def raw-data (map #(+ (* 22 (+ % (Math/random)) 78)) (range)))\n",
    "(def data-1 (take 500 raw-data))\n",
    "(def data-2 (reverse (take 500 raw-data)))\n",
    "(def data-3 (map #(/ (+ %1 %2) 2) data-1 data-2))\n",
    "\n",
    "(plot-highchart {:chart {:type \"line\"}\n",
    "                 :title {:text \"Plot of random data\"}\n",
    "                 :series [{:data data-1} {:data data-2} {:data data-3}]})"
   ]
  },
  {
   "cell_type": "markdown",
   "metadata": {},
   "source": [
    " - Call JSON Web Service and process"
   ]
  },
  {
   "cell_type": "code",
   "execution_count": 12,
   "metadata": {},
   "outputs": [
    {
     "data": {
      "text/plain": [
       "278"
      ]
     },
     "execution_count": 12,
     "metadata": {},
     "output_type": "execute_result"
    }
   ],
   "source": [
    "; Get # of Marta busses on road currently\n",
    "(->> (json/read-str (slurp \"http://developer.itsmarta.com/BRDRestService/RestBusRealTimeService/GetAllBus\") :key-fn keyword)\n",
    "     count)"
   ]
  },
  {
   "cell_type": "code",
   "execution_count": 13,
   "metadata": {},
   "outputs": [
    {
     "name": "stdout",
     "output_type": "stream",
     "text": [
      "([\"#\" \"ROUTE\" \"MSGTIME\" \"DIRECTION\" \"VEHICLE\" \"TIMEPOINT\" \"ADHERENCE\"]\n",
      " (1\n",
      "  \"1\"\n",
      "  \"7/5/2018 8:03:50 PM\"\n",
      "  \"Northbound\"\n",
      "  \"1462\"\n",
      "  \"W Marietta St & Joseph Lowery Bv\"\n",
      "  \"-8\")\n",
      " (2 \"1\" \"7/5/2018 8:21:59 PM\" \"Northbound\" \"1474\" \"Ashby Station\" \"-2\"))\n"
     ]
    }
   ],
   "source": [
    "; get info on all busses on specific route\n",
    "(->> (json/read-str (slurp \"http://developer.itsmarta.com/BRDRestService/RestBusRealTimeService/GetAllBus\") :key-fn keyword)\n",
    "     (filter #(= (:ROUTE %) \"1\"))\n",
    "     (map (juxt :ROUTE\n",
    "                :MSGTIME\n",
    "                :DIRECTION\n",
    "                :VEHICLE\n",
    "                ;:LONGITUDE\n",
    "                ;:LATITUDE\n",
    "                ;:STOPID\n",
    "                ;:BLOCK_ABBR\n",
    "                ;:BLOCKID\n",
    "                :TIMEPOINT\n",
    "                ;:TRIPID\n",
    "                :ADHERENCE))\n",
    "     sort\n",
    "     (apply map list) ; these 3 lines add a row number to row\n",
    "     (concat (list (rest (range))))\n",
    "     (apply map list)\n",
    "     (concat [[\"#\" \"ROUTE\" \"MSGTIME\" \"DIRECTION\" \"VEHICLE\" \"TIMEPOINT\" \"ADHERENCE\"]]) ; add header\n",
    "     clojure.pprint/pprint)"
   ]
  },
  {
   "cell_type": "markdown",
   "metadata": {},
   "source": [
    " - using [Incanter](http://incanter.org/)\n",
    " \n",
    " [Incanter example](https://nbviewer.jupyter.org/github/JeffAtAtl/clojupyter/blob/master/examples/)"
   ]
  },
  {
   "cell_type": "markdown",
   "metadata": {},
   "source": [
    "## Next Steps\n",
    "\n",
    " - Solve problems with getting Incanter working\n",
    " - Create docker container with latest version of clojupyter\n",
    " - Create more helper functions\n",
    " - Create better documentation\n",
    " - Blog about my experiences"
   ]
  },
  {
   "cell_type": "markdown",
   "metadata": {},
   "source": [
    "## Acknowledgements\n",
    "\n",
    " - [Rich Hickey](https://github.com/richhickey) for Clojure\n",
    " - [Rory Kirchner](https://github.com/roryk) and [Aria Haghighi](https://github.com/aria42) for [clojupyter](https://github.com/clojupyter/clojupyter)\n",
    " - [Kane Blueriver](https://github.com/kxxoling/jupyter-clojure-docker) for clojupyter docker image"
   ]
  },
  {
   "cell_type": "code",
   "execution_count": null,
   "metadata": {},
   "outputs": [],
   "source": []
  }
 ],
 "metadata": {
  "kernelspec": {
   "display_name": "Clojure",
   "language": "clojure",
   "name": "clojure"
  },
  "language_info": {
   "file_extension": ".clj",
   "mimetype": "text/x-clojure",
   "name": "clojure",
   "version": "1.8.0"
  }
 },
 "nbformat": 4,
 "nbformat_minor": 2
}
